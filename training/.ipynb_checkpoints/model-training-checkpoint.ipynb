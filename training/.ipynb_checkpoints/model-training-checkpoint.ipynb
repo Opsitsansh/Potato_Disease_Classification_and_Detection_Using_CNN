{
 "cells": [
  {
   "cell_type": "code",
   "execution_count": null,
   "id": "b4d58692-9128-47f0-9dca-601b7af782e8",
   "metadata": {},
   "source": [
    "!pip install TensorFlow\n",
    "!pip install matplotlib\n",
    "\n"
   ],
   "outputs": []
  },
  {
   "cell_type": "markdown",
   "id": "10d1901c-b3cc-4071-a28a-f2a3d61c08a2",
   "metadata": {},
   "source": [
    "# DATA COLLECTION AND PREPROCESSING"
   ]
  },
  {
   "cell_type": "code",
   "execution_count": null,
   "id": "90804387-bfb8-4f79-adbd-ff8854ec0085",
   "metadata": {},
   "source": [
    "import tensorflow as tf\n",
    "from tensorflow.keras import models, layers\n",
    "import matplotlib.pyplot as plt"
   ],
   "outputs": []
  },
  {
   "cell_type": "code",
   "execution_count": null,
   "id": "189b7702-6d6c-4e06-af52-f3b0d2f4f9a6",
   "metadata": {},
   "source": [
    "IMAGE_SIZE = 256\n",
    "BATCH_SIZE = 32\n",
    "CHANNELS=3\n",
    "EPOCHS=50"
   ],
   "outputs": []
  },
  {
   "cell_type": "code",
   "execution_count": null,
   "id": "e7552b92-a766-44ef-9f54-7a8179e6b2fb",
   "metadata": {},
   "source": [
    " dataset = tf.keras.preprocessing.image_dataset_from_directory(\n",
    "    \"Plants_Village\",\n",
    "    shuffle=True,\n",
    "    image_size =(IMAGE_SIZE,IMAGE_SIZE),\n",
    "    batch_size = BATCH_SIZE \n",
    ")\n",
    "\n"
   ],
   "outputs": []
  },
  {
   "cell_type": "code",
   "execution_count": null,
   "id": "3f4ebf08-70ee-430f-952c-6c28b831ea35",
   "metadata": {},
   "source": [
    "class_names = dataset.class_names\n",
    "class_names"
   ],
   "outputs": []
  },
  {
   "cell_type": "code",
   "execution_count": null,
   "id": "a1f863e1-0681-4ade-bdc0-cf284b852b27",
   "metadata": {},
   "source": [
    "len(dataset)"
   ],
   "outputs": []
  },
  {
   "cell_type": "code",
   "execution_count": null,
   "id": "7a4b0620-ac64-4203-9a1b-63a23c4fab1d",
   "metadata": {},
   "source": [
    "plt.figure(figsize=(10,10))\n",
    "for image_batch, labels_batch in dataset.take(1):\n",
    "    print(image_batch.shape)\n",
    "    print(labels_batch.numpy())\n",
    "    for i in range(12):\n",
    "        ax = plt.subplot(3,4,i+1)\n",
    "        plt.imshow(image_batch[i].numpy().astype(\"uint8\"))\n",
    "        plt.title(class_names[labels_batch[i]])\n",
    "        plt.axis(\"off\")\n",
    "        \n",
    "    "
   ],
   "outputs": []
  },
  {
   "cell_type": "code",
   "execution_count": null,
   "id": "346f96bf-a552-4d6a-a27b-4423b8ca0ef1",
   "metadata": {},
   "source": [
    "len(dataset)"
   ],
   "outputs": []
  },
  {
   "cell_type": "markdown",
   "id": "6a4201c5-e724-41f8-8b84-8211add32c12",
   "metadata": {},
   "source": [
    "training_data_percentage = 80  # 80% for training\n",
    "validation_percentage = 10  # 10% for validation\n",
    "test_percentage = 10        # 10% for testing"
   ]
  },
  {
   "cell_type": "code",
   "execution_count": null,
   "id": "c9c6212a-e314-4fa3-bd8b-9dcf24bbfa56",
   "metadata": {},
   "source": [
    "train_size = 0.8\n",
    "len(dataset)*train_size\n"
   ],
   "outputs": []
  },
  {
   "cell_type": "code",
   "execution_count": null,
   "id": "a685ad70-67d6-41cf-8a61-425512d254e5",
   "metadata": {},
   "source": [
    "train_ds= dataset.take(54)\n",
    "len(train_ds)"
   ],
   "outputs": []
  },
  {
   "cell_type": "code",
   "execution_count": null,
   "id": "27dc7d6f-1ee5-4a2a-9029-f2e2584f72b9",
   "metadata": {},
   "source": [
    "test_ds = dataset.skip(54)\n",
    "len(test_ds)"
   ],
   "outputs": []
  },
  {
   "cell_type": "code",
   "execution_count": null,
   "id": "e4d9afa5-a88a-46f5-b245-af781af503e3",
   "metadata": {},
   "source": [
    "val_size=0.1\n",
    "len(dataset)*val_size"
   ],
   "outputs": []
  },
  {
   "cell_type": "code",
   "execution_count": null,
   "id": "5ebfd143-7b1a-4b20-8949-d8969b85181d",
   "metadata": {},
   "source": [
    "val_ds = test_ds.take(6)\n",
    "len(val_ds)"
   ],
   "outputs": []
  },
  {
   "cell_type": "code",
   "execution_count": null,
   "id": "e00a43e9-e770-4d8c-aa4c-98a0be92fa6c",
   "metadata": {},
   "source": [
    "test_ds = test_ds.skip(6)\n",
    "len(test_ds)"
   ],
   "outputs": []
  },
  {
   "cell_type": "code",
   "execution_count": null,
   "id": "dfbd6283-5d43-4418-8471-8a90e71bd8bc",
   "metadata": {},
   "source": [
    "def get_dataset_partition_tf(ds, train_split=0.8, val_split=0.1,test_split=0.1, shuffle=True, shuffle_size=10000):\n",
    "    assert (train_split+test_split+val_split) == 1\n",
    "   \n",
    "    ds_size = len(ds)\n",
    "\n",
    "    if shuffle:\n",
    "        ds = ds.shuffle(shuffle_size, seed=12)\n",
    "\n",
    "    train_size = int(train_split*ds_size) \n",
    "    val_size = int(val_split*ds_size)\n",
    "\n",
    "    train_ds = ds.take(train_size)\n",
    "    val_ds = ds.skip(train_size).take(val_size)\n",
    "    test_ds = ds.skip(train_size).skip(val_size)\n",
    "    \n",
    "    return train_ds, val_ds, test_ds"
   ],
   "outputs": []
  },
  {
   "cell_type": "code",
   "execution_count": null,
   "id": "67f5a3fb-efda-49e8-a63f-bac3c224724b",
   "metadata": {},
   "source": [
    "train_ds, val_ds, test_ds = get_dataset_partition_tf(dataset)"
   ],
   "outputs": []
  },
  {
   "cell_type": "code",
   "execution_count": null,
   "id": "87972276-ff72-497e-a03a-4f10cf2b3a10",
   "metadata": {},
   "source": [
    "len(train_ds)"
   ],
   "outputs": []
  },
  {
   "cell_type": "code",
   "execution_count": null,
   "id": "d7b7bdd6-a9d2-4c7c-9c1c-0ad6b06e5faa",
   "metadata": {},
   "source": [
    "len(val_ds)"
   ],
   "outputs": []
  },
  {
   "cell_type": "code",
   "execution_count": null,
   "id": "8177cd01-dde4-4fdd-8312-c580788e42b8",
   "metadata": {},
   "source": [
    "len(test_ds)"
   ],
   "outputs": []
  },
  {
   "cell_type": "code",
   "execution_count": null,
   "id": "5b65b1e1-35bc-4c33-a8ec-640564b152e6",
   "metadata": {},
   "source": [
    "train_ds = train_ds.cache().shuffle(1000).prefetch(buffer_size=tf.data.AUTOTUNE)\n",
    "val_ds = val_ds.cache().shuffle(1000).prefetch(buffer_size=tf.data.AUTOTUNE)\n",
    "test_ds = test_ds.cache().shuffle(1000).prefetch(buffer_size=tf.data.AUTOTUNE)"
   ],
   "outputs": []
  },
  {
   "cell_type": "code",
   "execution_count": null,
   "id": "b9f9cf39-3b38-4583-b7c8-c85aa233d522",
   "metadata": {},
   "source": [
    "for image_batch, labels_batch in dataset.take(1):\n",
    "    print(image_batch[0].numpy()/255)"
   ],
   "outputs": []
  },
  {
   "cell_type": "code",
   "execution_count": null,
   "id": "7ff72b07-96b6-48cd-acdf-d2dda22ca160",
   "metadata": {},
   "source": [
    "resize_and_rescale = tf.keras.Sequential([\n",
    "    layers.Resizing(IMAGE_SIZE, IMAGE_SIZE),\n",
    "    layers.Rescaling(1.0 / 255)\n",
    "])"
   ],
   "outputs": []
  },
  {
   "cell_type": "code",
   "execution_count": null,
   "id": "f3c3694c-1bca-42b8-b915-18bc8837711c",
   "metadata": {
    "scrolled": true
   },
   "source": [
    "data_augmentation = tf.keras.Sequential([\n",
    "    layers.RandomFlip(\"horizontal_and_vertical\"),\n",
    "    layers.RandomRotation(0.2),\n",
    "])"
   ],
   "outputs": []
  },
  {
   "cell_type": "markdown",
   "id": "3e62537c-7675-4a71-92c0-d11bbfc2e3c6",
   "metadata": {},
   "source": [
    "# MODEL BUILDING"
   ]
  },
  {
   "cell_type": "code",
   "execution_count": null,
   "id": "6183009c-987c-423a-b0a8-7bb8e4933827",
   "metadata": {},
   "source": [
    "input_shape = (BATCH_SIZE, IMAGE_SIZE,IMAGE_SIZE,CHANNELS)\n",
    "n_classes = 3\n",
    "model = models.Sequential([\n",
    "    resize_and_rescale,\n",
    "    data_augmentation,\n",
    "    layers.Conv2D(32, kernel_size=(3,3), activation='relu', input_shape=input_shape),\n",
    "    layers.MaxPooling2D((2,2)),\n",
    "    layers.Conv2D(64, kernel_size=(3,3), activation='relu'),\n",
    "    layers.MaxPooling2D((2,2)),\n",
    "    layers.Conv2D(64, kernel_size=(3,3), activation='relu'),\n",
    "    layers.MaxPooling2D((2,2)),\n",
    "    layers.Conv2D(64, kernel_size=(3,3), activation='relu'),\n",
    "    layers.MaxPooling2D((2,2)),\n",
    "    layers.Conv2D(64, kernel_size=(3,3), activation='relu'),\n",
    "    layers.MaxPooling2D((2,2)),\n",
    "    layers.Conv2D(64, kernel_size=(3,3), activation='relu'),\n",
    "    layers.MaxPooling2D((2,2)),\n",
    "    layers.Flatten(),\n",
    "    layers.Dense(64, activation='relu'),\n",
    "    layers.Dense(n_classes, activation= 'softmax'),\n",
    "    \n",
    "])\n",
    "model.build(input_shape=input_shape)"
   ],
   "outputs": []
  },
  {
   "cell_type": "code",
   "execution_count": null,
   "id": "4bc7e2aa-3be0-4088-bf4c-7fecc071ef4f",
   "metadata": {},
   "source": [
    "model.summary()"
   ],
   "outputs": []
  },
  {
   "cell_type": "code",
   "execution_count": null,
   "id": "8bc1aefe-820c-46a5-94db-19acbb08cc65",
   "metadata": {},
   "source": [
    "model.compile(\n",
    "    optimizer='adam',\n",
    "    loss=tf.keras.losses.SparseCategoricalCrossentropy(from_logits=False),\n",
    "    metrics=['accuracy']\n",
    ")"
   ],
   "outputs": []
  },
  {
   "cell_type": "code",
   "execution_count": null,
   "id": "0f79dc19-d582-431a-806e-a4a0a6254496",
   "metadata": {},
   "source": [
    "history = model.fit(\n",
    "    train_ds,\n",
    "    batch_size=BATCH_SIZE,\n",
    "    validation_data=val_ds,\n",
    "    verbose=1,\n",
    "    epochs=EPOCHS\n",
    ") "
   ],
   "outputs": []
  },
  {
   "cell_type": "code",
   "execution_count": null,
   "id": "78127772-54ee-47e7-ab72-b111ff8fe4ce",
   "metadata": {},
   "source": [
    "len(test_ds)"
   ],
   "outputs": []
  },
  {
   "cell_type": "code",
   "execution_count": null,
   "id": "c654fc4b-8fd1-4610-be4d-65a973ed3da6",
   "metadata": {},
   "source": [
    "scores = model.evaluate(test_ds)"
   ],
   "outputs": []
  },
  {
   "cell_type": "code",
   "execution_count": null,
   "id": "ef7189bf-61ad-459f-afd7-27df68642176",
   "metadata": {},
   "source": [
    "scores"
   ],
   "outputs": []
  },
  {
   "cell_type": "code",
   "execution_count": null,
   "id": "4a4e9566-7b9b-4914-96d6-fd5f7f0fb077",
   "metadata": {},
   "source": [
    "history.history.keys()"
   ],
   "outputs": []
  },
  {
   "cell_type": "code",
   "execution_count": null,
   "id": "833e8b92-679f-4a9e-ad22-33606a7a15b2",
   "metadata": {},
   "source": [
    "acc = history.history['accuracy']\n",
    "val_acc = history.history['val_accuracy']\n",
    "\n",
    "loss = history.history['loss']\n",
    "val_loss = history.history['val_loss']"
   ],
   "outputs": []
  },
  {
   "cell_type": "code",
   "execution_count": null,
   "id": "1ecd0746-90c7-40b9-ac2c-54c6f20f49a6",
   "metadata": {},
   "source": [
    "plt.figure(figsize=(8,8))\n",
    "plt.subplot(1,2,1)\n",
    "plt.plot(range(EPOCHS), acc, label='Trainaing Accuracy')\n",
    "plt.plot(range(EPOCHS), val_acc, label='Validation Accuracy')\n",
    "plt.legend(loc='lower right')\n",
    "plt.title('Training and validation Accuracy')\n",
    "\n",
    "plt.subplot(1, 2, 2)\n",
    "plt.plot(range(EPOCHS), loss, label='Trainaing Loss')\n",
    "plt.plot(range(EPOCHS), val_loss, label='Validation Loss')\n",
    "plt.legend(loc='upper right')\n",
    "plt.title('Training and validation Loss')\n",
    "plt.show()\n"
   ],
   "outputs": []
  },
  {
   "cell_type": "code",
   "execution_count": null,
   "id": "560915f5-0d30-4b44-8e11-eab1041a69b9",
   "metadata": {},
   "source": [
    "import numpy as np\n",
    "for images_batch, labels_batch in test_ds.take(1):\n",
    "\n",
    "    first_image = images_batch[0].numpy().astype(\"uint8\")\n",
    "    print(\"First image to predict\")\n",
    "    plt.imshow(first_image)\n",
    "    print(\"Actual Label:\",class_names[labels_batch[0].numpy()])\n",
    "\n",
    "    batch_predictions = model.predict(images_batch)\n",
    "    print(\"Predicted Label:\",class_names[np.argmax(batch_predictions[0])])"
   ],
   "outputs": []
  },
  {
   "cell_type": "code",
   "execution_count": null,
   "id": "a324d09e-36d0-475a-b295-1b0683a5fb83",
   "metadata": {},
   "source": [
    "def predict(model, img):\n",
    "    img_array = tf.keras.preprocessing.image.img_to_array(images[i].numpy())\n",
    "    img_array = tf.expand_dims(img_array, 0)\n",
    "    \n",
    "    predictions = model.predict(img_array)\n",
    "    \n",
    "    predicted_class = class_names[np.argmax(predictions[0])]\n",
    "    confidence = round(100 * (np.max(predictions[0])), 2)\n",
    "    return predicted_class, confidence"
   ],
   "outputs": []
  },
  {
   "cell_type": "code",
   "execution_count": null,
   "id": "07d45346-14d3-4a4f-804e-100fa402d217",
   "metadata": {
    "scrolled": true
   },
   "source": [
    "plt.figure(figsize=(15, 15))\n",
    "for images, labels in test_ds.take(1):\n",
    "    for i in range(9):\n",
    "        ax = plt.subplot(3, 3, i + 1)\n",
    "        plt.imshow(images[i].numpy().astype(\"uint8\"))\n",
    "        predicted_class, confidence = predict(model, images[i].numpy())\n",
    "\n",
    "        actual_class = class_names[labels[i]]\n",
    "        plt.title(f\"Actual: {actual_class},\\n Predicted: {predicted_class}.\\n Confidence: {confidence}%\")\n",
    "        plt.axis(\"off\")"
   ],
   "outputs": []
  },
  {
   "cell_type": "code",
   "execution_count": null,
   "id": "310b3e68-5e89-4073-b9a9-3b33e65326c3",
   "metadata": {},
   "source": [
    "import os\n",
    "\n",
    "# Get the maximum model version number from existing models, and increment by 1\n",
    "model_version = max([int(i.split('.')[0]) for i in os.listdir(\"../models\") if i.split('.')[-1] in ['keras', 'h5']], default=0) + 1\n",
    "\n",
    "# Save the model with the new version\n",
    "model.save(f\"../models/{model_version}.keras\")  # or .h5 if you prefer\n",
    "\n"
   ],
   "outputs": []
  },
  {
   "cell_type": "code",
   "execution_count": null,
   "id": "0a73d488-4d21-4151-92b0-ffd719d4f7bb",
   "metadata": {},
   "source": [],
   "outputs": []
  }
 ],
 "metadata": {
  "kernelspec": {
   "display_name": "Python 3 (ipykernel)",
   "language": "python",
   "name": "python3"
  },
  "language_info": {
   "codemirror_mode": {
    "name": "ipython",
    "version": 3
   },
   "file_extension": ".py",
   "mimetype": "text/x-python",
   "name": "python",
   "nbconvert_exporter": "python",
   "pygments_lexer": "ipython3",
   "version": "3.11.7"
  }
 },
 "nbformat": 4,
 "nbformat_minor": 5
}
